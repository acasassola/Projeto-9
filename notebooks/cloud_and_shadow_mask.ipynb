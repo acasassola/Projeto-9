{
 "cells": [
  {
   "cell_type": "markdown",
   "metadata": {},
   "source": [
    "**<div align=\"right\">Instituto Nacional de Pesquisa Espacial (INPE) - 2020</div>**\n",
    "\n",
    "**<div align=\"right\">Disciplina: SER-347</div>**\n",
    "***\n",
    "\n",
    "## Projeto 9\n",
    "***\n",
    "\n",
    "# Detecção de nuvens e sombra de nuvens:\n",
    "\n",
    "## Informação espectral e metadados\n",
    "***\n",
    "#### Alunos\n",
    "* Aline Casassola \n",
    "* Felipe Rafael de Sá Menezes Lucena\n",
    "* Grazieli Rodigheri"
   ]
  },
  {
   "cell_type": "markdown",
   "metadata": {},
   "source": [
    "### Importação das bibliotecas usadas"
   ]
  },
  {
   "cell_type": "code",
   "execution_count": null,
   "metadata": {},
   "outputs": [],
   "source": [
    "# Importa a gdal, ogr e osr\n",
    "from osgeo import gdal, ogr, osr\n",
    "\n",
    "# Importa *\n",
    "from gdalconst import *\n",
    "\n",
    "# Uso de exceções\n",
    "gdal.UseExceptions()\n",
    "\n",
    "# Importa o matplotlib\n",
    "import matplotlib.pyplot as plt\n",
    "\n",
    "# Importa o Numpy\n",
    "import numpy as np\n",
    "\n",
    "# Importa os widgets\n",
    "import ipywidgets as widgets\n",
    "\n",
    "#Importa shape e mapping\n",
    "from shapely.geometry import shape, mapping\n",
    "\n",
    "import fiona\n",
    "import math\n",
    "import xml.etree.ElementTree as ET\n",
    "import os"
   ]
  },
  {
   "cell_type": "markdown",
   "metadata": {},
   "source": [
    "### Função que abre e retorna a imagem NIR do CBERS para calcular a máscara de nuvens:"
   ]
  },
  {
   "cell_type": "code",
   "execution_count": null,
   "metadata": {},
   "outputs": [],
   "source": [
    "# Função para abrir dataset:\n",
    "def abrir_dataset (nome_arquivo):\n",
    "    print (\"Abrindo o arquivo: \" + nome_arquivo)\n",
    "    \n",
    "    # Tenta abrir a imagem\n",
    "    dataset = None\n",
    "    try:\n",
    "        dataset = gdal.Open(nome_arquivo, GA_ReadOnly)\n",
    "        print(\"Arquivo aberto com sucesso!\")\n",
    "    except:\n",
    "        print(\"Erro na abertura do arquivo!\")\n",
    "    \n",
    "    return dataset"
   ]
  },
  {
   "cell_type": "markdown",
   "metadata": {},
   "source": [
    "### Seleção da imagem pelo usuário"
   ]
  },
  {
   "cell_type": "code",
   "execution_count": null,
   "metadata": {},
   "outputs": [],
   "source": [
    "cenas = []\n",
    "for i in os.listdir(\"../imagens/\"):\n",
    "    if '.' not in i:\n",
    "        cenas.append(\"../imagens/\"+i)\n",
    "        \n",
    "# Cria um dropdown com a lista de imagens\n",
    "cena_folder = widgets.Dropdown(options = cenas)\n",
    "\n",
    "print (\"Selecione a pasta da imagem\")\n",
    "cena_folder"
   ]
  },
  {
   "cell_type": "code",
   "execution_count": null,
   "metadata": {},
   "outputs": [],
   "source": [
    "bandas = []\n",
    "values = []\n",
    "for i in os.listdir(str(cena_folder.value)):\n",
    "    if '.' not in i:\n",
    "        values.append(i)\n",
    "        \n",
    "for i in values:\n",
    "    bandas.append(('Banda ' + i[-1], cena_folder.value + '/' + i +\"/\"+ i[-14:] +\".tif\"))\n",
    "        \n",
    "# Cria um dropdown com a lista de imagens\n",
    "bandas_folder = widgets.ToggleButtons(\n",
    "    options=bandas,\n",
    "    description='Selecione:',\n",
    "    disabled=False,\n",
    "    button_style=''\n",
    ")\n",
    "\n",
    "bandas_folder"
   ]
  },
  {
   "cell_type": "markdown",
   "metadata": {},
   "source": [
    "### Abertura do dataset e conversão da banda NIR para array"
   ]
  },
  {
   "cell_type": "code",
   "execution_count": null,
   "metadata": {},
   "outputs": [],
   "source": [
    "# Abre a imagem NIR:\n",
    "raster_NIR = abrir_dataset(bandas_folder.value)\n",
    "\n",
    "# Obtém a banda única do dataset\n",
    "banda_NIR = raster_NIR.GetRasterBand(1)\n",
    "\n",
    "# Transforma a banda em array\n",
    "array_banda_NIR = banda_NIR.ReadAsArray()"
   ]
  },
  {
   "cell_type": "markdown",
   "metadata": {},
   "source": [
    "## Máscara de nuvens"
   ]
  },
  {
   "cell_type": "markdown",
   "metadata": {},
   "source": [
    "### Seleção do limiar pelo usuário"
   ]
  },
  {
   "cell_type": "code",
   "execution_count": null,
   "metadata": {},
   "outputs": [],
   "source": [
    "limiar = widgets.IntSlider( min=0, max=255, value=120, step=1)\n",
    "\n",
    "print(\"Selecione um limiar (DN)\")\n",
    "limiar"
   ]
  },
  {
   "cell_type": "markdown",
   "metadata": {},
   "source": [
    "### Geração da máscara de nuvens"
   ]
  },
  {
   "cell_type": "code",
   "execution_count": null,
   "metadata": {},
   "outputs": [],
   "source": [
    "# Cria uma cópia da banda NIR para trabalhar\n",
    "mascara_nuvens = np.copy(array_banda_NIR)\n",
    "\n",
    "# Cria a máscara em função do limiar\n",
    "mascara_nuvens[mascara_nuvens < limiar.value] = False\n",
    "mascara_nuvens[mascara_nuvens >= limiar.value] = True"
   ]
  },
  {
   "cell_type": "markdown",
   "metadata": {},
   "source": [
    "### Mínimos e máximos dos pixels"
   ]
  },
  {
   "cell_type": "code",
   "execution_count": null,
   "metadata": {},
   "outputs": [],
   "source": [
    "print(\"Valores banda NIR:\")\n",
    "print(\"Min: \", array_banda_NIR.min())\n",
    "print(\"Max: \", array_banda_NIR.max())\n",
    "print(\"\")\n",
    "\n",
    "print(\"Valores máscara de Núvens:\")\n",
    "print(\"Min: \", mascara_nuvens.min())\n",
    "print(\"Max: \", mascara_nuvens.max())\n",
    "print(\"\")"
   ]
  },
  {
   "cell_type": "markdown",
   "metadata": {},
   "source": [
    "### Apresenta as imagens"
   ]
  },
  {
   "cell_type": "code",
   "execution_count": null,
   "metadata": {},
   "outputs": [],
   "source": [
    "# Cria a figura\n",
    "plt.figure(figsize = (16, 8))\n",
    "\n",
    "# Mostra a imagem NIR\n",
    "plt.subplot(121)\n",
    "plt.title(\"Banda Selecionada\")\n",
    "plt.imshow(array_banda_NIR, cmap='gray');\n",
    "\n",
    "# Mostra a máscara de nuvens\n",
    "plt.subplot(122)\n",
    "plt.title(\"Máscara de Nuvens\")\n",
    "plt.imshow(mascara_nuvens, cmap='gray');"
   ]
  },
  {
   "cell_type": "markdown",
   "metadata": {},
   "source": [
    "## Estatísticas"
   ]
  },
  {
   "cell_type": "markdown",
   "metadata": {},
   "source": [
    "### Estatísticas da imagem inteira"
   ]
  },
  {
   "cell_type": "code",
   "execution_count": null,
   "metadata": {},
   "outputs": [],
   "source": [
    "num_total_pixels = mascara_nuvens.size\n",
    "print (\"Número total de pixels:\", num_total_pixels)\n",
    "\n",
    "num_pixels_nuvem = len(mascara_nuvens[mascara_nuvens == 1])\n",
    "print (\"Número total de pixels com nuvens:\", num_pixels_nuvem)\n",
    "\n",
    "per_pixels_nuvem = (num_pixels_nuvem/num_total_pixels)*100\n",
    "# per_pixels_nuvem = 80\n",
    "print (\"Percentual de pixels com nuvens:\", (round(per_pixels_nuvem, 3)))\n",
    "\n",
    "print (\"\\nClassificação da imagem de acordo com o percentual de nuvens: \")\n",
    "if (per_pixels_nuvem > 75):\n",
    "    print(\"Céu totalmente coberto\")\n",
    "elif (per_pixels_nuvem > 20):\n",
    "    print(\"Céu parcialmente coberto\")\n",
    "else:\n",
    "    print(\"Céu limpo\")"
   ]
  },
  {
   "cell_type": "markdown",
   "metadata": {},
   "source": [
    "### Estatísticas por quadrantes"
   ]
  },
  {
   "cell_type": "code",
   "execution_count": null,
   "metadata": {},
   "outputs": [],
   "source": [
    "# Obtém a metade da linha e da coluna:\n",
    "meio_linhas = int(np.size(mascara_nuvens,0)/2)\n",
    "meio_colunas = int(np.size(mascara_nuvens,1)/2)\n",
    "\n",
    "# Obtém o array de cada quadrante:\n",
    "Q1 = mascara_nuvens[:meio_linhas, :meio_colunas]\n",
    "Q2 = mascara_nuvens[:meio_linhas, meio_colunas:]\n",
    "Q3 = mascara_nuvens[meio_linhas:, :meio_colunas]\n",
    "Q4 = mascara_nuvens[meio_linhas:, meio_colunas:]\n",
    "\n",
    "# Quadrante 1:\n",
    "total_pixels_Q1 = Q1.size\n",
    "pixels_nuvem_Q1 = len(Q1[Q1 == 1])\n",
    "per_nuvem_Q1 = (pixels_nuvem_Q1/total_pixels_Q1)*100\n",
    "print (\"Percentual de pixels com nuvens no Q1: \", (round(per_nuvem_Q1, 2)), \"%\", sep='')\n",
    "\n",
    "# Quadrante 2:\n",
    "total_pixels_Q2 = Q2.size\n",
    "pixels_nuvem_Q2 = len(Q2[Q2 == 1])\n",
    "per_nuvem_Q2 = (pixels_nuvem_Q2/total_pixels_Q2)*100\n",
    "print (\"Percentual de pixels com nuvens no Q2: \", (round(per_nuvem_Q2, 2)), \"%\", sep='')\n",
    "\n",
    "# Quadrante 3:\n",
    "total_pixels_Q3 = Q3.size\n",
    "pixels_nuvem_Q3 = len(Q3[Q3 == 1])\n",
    "per_nuvem_Q3 = (pixels_nuvem_Q3/total_pixels_Q3)*100\n",
    "print (\"Percentual de pixels com nuvens no Q3: \", (round(per_nuvem_Q3, 2)), \"%\", sep='')\n",
    "\n",
    "# Quadrante 4:\n",
    "total_pixels_Q4 = Q4.size\n",
    "pixels_nuvem_Q4 = len(Q4[Q4 == 1])\n",
    "per_nuvem_Q4 = (pixels_nuvem_Q4/total_pixels_Q4)*100\n",
    "print (\"Percentual de pixels com nuvens no Q4: \", (round(per_nuvem_Q4, 2)), \"%\", sep='')"
   ]
  },
  {
   "cell_type": "markdown",
   "metadata": {},
   "source": [
    "## Salvando a máscara como arquivo tif"
   ]
  },
  {
   "cell_type": "code",
   "execution_count": null,
   "metadata": {},
   "outputs": [],
   "source": [
    "def save_mask(matriz_de_pixels, nome_do_arquivo, dataset_de_referencia):\n",
    "    # Obtém as informações de tamanho do raster de referência\n",
    "    linhas = dataset_de_referencia.RasterYSize\n",
    "    colunas = dataset_de_referencia.RasterXSize\n",
    "    bandas = 1\n",
    "        \n",
    "    # Carrega o driver para salvar tif\n",
    "    driver = gdal.GetDriverByName('GTiff')\n",
    "    \n",
    "    # Obtém o tipo de dado do dataset de referência\n",
    "    data_type = dataset_de_referencia.GetRasterBand(1).DataType\n",
    "    \n",
    "    # Criar novo dataset\n",
    "    dataset_output = driver.Create(nome_do_arquivo, colunas, linhas, bandas, data_type)\n",
    "    \n",
    "    # Copiar informações espaciais da banda já existente\n",
    "    dataset_output.SetGeoTransform(dataset_de_referencia.GetGeoTransform())\n",
    "    \n",
    "    # Copiar informações de projeção\n",
    "    dataset_output.SetProjection(dataset_de_referencia.GetProjectionRef())\n",
    "    \n",
    "    # Escrever dados da matriz NumPy na banda\n",
    "    dataset_output.GetRasterBand(1).WriteArray(matriz_de_pixels)\n",
    "    \n",
    "    # Salvar valores\n",
    "    dataset_output.FlushCache()\n",
    "    \n",
    "    # Fechar dataset\n",
    "    dataset_output = None"
   ]
  },
  {
   "cell_type": "code",
   "execution_count": null,
   "metadata": {},
   "outputs": [],
   "source": [
    "# Nome do arquivo de saída\n",
    "nome_arquivo_mascara_destino = '../produtos/imagens/mascara_nuvens_' + bandas_folder.value[-16:]\n",
    "\n",
    "# Chama a função para salvar a máscara de nuvens\n",
    "save_mask(mascara_nuvens,nome_arquivo_mascara_destino,raster_NIR)"
   ]
  },
  {
   "cell_type": "markdown",
   "metadata": {},
   "source": [
    "## Máscara de sombras\n",
    "### Abrindo a máscara de nuvens"
   ]
  },
  {
   "cell_type": "code",
   "execution_count": null,
   "metadata": {},
   "outputs": [],
   "source": [
    "# Abre a mascara de nuvem gerada anteriormente\n",
    "print (\"Abrindo o arquivo: \" + nome_arquivo_mascara_destino)\n",
    "\n",
    "# Tenta abrir a imagem\n",
    "try:\n",
    "    mascara_nuvens = gdal.Open(nome_arquivo_mascara_destino, GA_ReadOnly)\n",
    "    print(\"Arquivo aberto com sucesso!\")\n",
    "except:\n",
    "    print(\"Erro na abertura do arquivo!\")"
   ]
  },
  {
   "cell_type": "code",
   "execution_count": null,
   "metadata": {},
   "outputs": [],
   "source": [
    "# Obtém a banda única do dataset\n",
    "banda_mascara = mascara_nuvens.GetRasterBand(1)"
   ]
  },
  {
   "cell_type": "markdown",
   "metadata": {},
   "source": [
    "### Gerando a máscara de sombras inicial (vetorização da máscara de nuvens)"
   ]
  },
  {
   "cell_type": "code",
   "execution_count": null,
   "metadata": {},
   "outputs": [],
   "source": [
    "srs = osr.SpatialReference()\n",
    "srs.ImportFromWkt(mascara_nuvens.GetProjectionRef())\n",
    "\n",
    "shp_layername_cloud = '../produtos/shp/mascara_nuvens_' + bandas_folder.value[-16:]\n",
    "driver = ogr.GetDriverByName(\"ESRI Shapefile\")   \n",
    "shp_datasource = driver.CreateDataSource(shp_layername_cloud + '.shp')\n",
    "shp_layer = shp_datasource.CreateLayer(shp_layername_cloud, srs=srs)\n",
    "\n",
    "new_field = ogr.FieldDefn('DN', ogr.OFTReal)\n",
    "shp_layer.CreateField(new_field) \n",
    "\n",
    "\n",
    "gdal.Polygonize(banda_mascara, banda_mascara, shp_layer, 0, [], callback=None)\n",
    "\n",
    "shp_datasource.Destroy()\n",
    "shp_layername_cloud = shp_layername_cloud + \".shp\""
   ]
  },
  {
   "cell_type": "markdown",
   "metadata": {},
   "source": [
    "### Deslocamento da máscara de nuvens a partir de um delta_x e delta_y"
   ]
  },
  {
   "cell_type": "markdown",
   "metadata": {},
   "source": [
    "![SegmentLocal](../apresentacao/deslocamento_sombra.gif \"segment\")"
   ]
  },
  {
   "cell_type": "markdown",
   "metadata": {},
   "source": [
    "### Delta a partir dos metadados"
   ]
  },
  {
   "cell_type": "markdown",
   "metadata": {},
   "source": [
    "![SegmentLocal](../apresentacao/metadados.jpg \"segment\")"
   ]
  },
  {
   "cell_type": "code",
   "execution_count": null,
   "metadata": {},
   "outputs": [],
   "source": [
    "tree = ET.parse(bandas_folder.value[:-3]+'xml')\n",
    "root = tree.getroot()\n",
    "\n",
    "sun_incidence = root.find(\"{http://www.gisplan.com.br/xmlsat}sunIncidenceAngle\")\n",
    "degree_sun_incidence = int(sun_incidence.find('{http://www.gisplan.com.br/xmlsat}degree').text)\n",
    "minute_sun_incidence = int(sun_incidence.find('{http://www.gisplan.com.br/xmlsat}minute').text)\n",
    "second_sun_incidence = int(sun_incidence.find('{http://www.gisplan.com.br/xmlsat}second').text)\n",
    "\n",
    "sun_incidence = degree_sun_incidence + minute_sun_incidence/60 + second_sun_incidence/3600\n",
    "\n",
    "image = root.find(\"{http://www.gisplan.com.br/xmlsat}image\")\n",
    "sun_position = image.find('{http://www.gisplan.com.br/xmlsat}sunPosition')\n",
    "sun_azim = float(sun_position.find('{http://www.gisplan.com.br/xmlsat}sunAzimuth').text)\n",
    "sun_zenith = float(sun_position.find('{http://www.gisplan.com.br/xmlsat}elevation').text)\n",
    "\n",
    "sun_azim = math.radians(sun_azim)\n",
    "sun_zenith = math.radians(sun_zenith)\n",
    "view_azim = math.radians(0)\n",
    "view_zenith = math.radians(0)\n",
    "\n",
    "sen_sun_azi = math.sin(sun_azim)\n",
    "cos_sun_azi = math.cos(sun_azim)\n",
    "sen_view_azi = math.sin(view_azim)\n",
    "cos_view_azi = math.cos(view_azim)\n",
    "tan_sun_zenith = math.tan(sun_zenith)\n",
    "tan_view_zenith = math.tan(view_zenith)\n",
    "\n",
    "shadow_direction = math.pi + math.atan(sen_sun_azi*tan_sun_zenith-sen_view_azi*tan_view_zenith/\n",
    "                                       (cos_sun_azi*tan_sun_zenith-cos_view_azi*tan_view_zenith))\n",
    "\n",
    "h = 1500 #Altura das nuvens\n",
    "\n",
    "shadow_distance = h * math.tan(math.radians(sun_incidence))\n",
    "\n",
    "# shadow_distance2 = h * math.sqrt(\n",
    "#     ( (sen_sun_azi*tan_sun_zenith) - (sen_view_azi*tan_view_zenith) )**2 +\n",
    "#     ( (cos_sun_azi*tan_sun_zenith) - (cos_view_azi*tan_view_zenith) )**2\n",
    "#     )\n",
    "\n",
    "delta = (shadow_distance*math.sin(shadow_direction), shadow_distance*math.cos(shadow_direction))"
   ]
  },
  {
   "cell_type": "markdown",
   "metadata": {},
   "source": [
    "\\begin{equation} {\\phi _s} = \\pi + \\arctan \\left({\\frac{{\\sin {\\phi _s}\\tan {\\theta _s} - \\sin {\\phi _v}\\tan {\\theta _v}}}{{\\cos {\\phi _s}\\tan {\\theta _s} - \\cos {\\phi _v}\\tan {\\theta _v}}}} \\right) \\end{equation}\n",
    "<br/>\n",
    "<center>B. Zhong et al. (2017)</center>\n",
    "<br/>\n",
    "\\begin{equation} {d _s} = h * \\tan(\\Theta _s) \\end{equation}"
   ]
  },
  {
   "cell_type": "markdown",
   "metadata": {},
   "source": [
    "### Deslocamento da máscara"
   ]
  },
  {
   "cell_type": "code",
   "execution_count": null,
   "metadata": {},
   "outputs": [],
   "source": [
    "# Essas três funções realizam o deslocamento das feições da camada. (Elas são recursivas entre si)\n",
    "def movePoint_Coords(coords, delta):     # \"delta\" é uma tupla (delta_x, delta_y)\n",
    "    return tuple(c + d for c, d in zip(coords, delta))\n",
    "def moveLine_Coords(coords, delta):\n",
    "    return list(movePoint_Coords(pt_coords, delta) for pt_coords in coords)\n",
    "def movePolygon_Coords(coords, delta):\n",
    "    return list(moveLine_Coords(ring_coords, delta) for ring_coords in coords)\n",
    "\n",
    "with fiona.open(shp_layername_cloud, \"r\") as shadow_cloud:\n",
    "\n",
    "    with fiona.open(\"../produtos/shp/mascara_sombra_deslocada.shp\", \n",
    "                    \"w\",\n",
    "                    driver=shadow_cloud.driver,\n",
    "                    schema=shadow_cloud.schema,\n",
    "                    crs=shadow_cloud.crs) as moved_shadow:\n",
    "        \n",
    "        # Deslocamento de todas as feições da camada de máscara de nuvens vetorizada\n",
    "        for feature in shadow_cloud:\n",
    "            try:\n",
    "                feature['geometry']['coordinates'] = movePolygon_Coords(feature['geometry']['coordinates'], delta)\n",
    "                moved_shadow.write(feature)\n",
    "            except:\n",
    "                print(\"Error processing record %s:\", feature)"
   ]
  },
  {
   "cell_type": "markdown",
   "metadata": {},
   "source": [
    "### Subtração da mascara deslocada pela mascara de nuvens \n",
    "\n",
    "Observação: a intersecção entre a nuvem e a sombra deve ser removida, visto que não é somente sombra. Com a subtração, na máscara, permanece o que é exclusivamente sombra."
   ]
  },
  {
   "cell_type": "markdown",
   "metadata": {},
   "source": [
    "![SegmentLocal](../apresentacao/subtracao_sombra.gif \"segment\")"
   ]
  },
  {
   "cell_type": "code",
   "execution_count": null,
   "metadata": {},
   "outputs": [],
   "source": [
    "with fiona.open(shp_layername_cloud, \"r\") as shadow_cloud:\n",
    "    with fiona.open(\"../produtos/shp/mascara_sombra_deslocada.shp\", \"r\") as moved_shadow:\n",
    "        \n",
    "        shp_layername_shadow = \"../produtos/shp/mascara_sombra_\" + bandas_folder.value[-16:-3] +\"shp\"\n",
    "        \n",
    "        with fiona.open(shp_layername_shadow,\n",
    "                    \"w\",\n",
    "                    driver=shadow_cloud.driver,\n",
    "                    schema=shadow_cloud.schema,\n",
    "                    crs=shadow_cloud.crs) as dif:\n",
    "            \n",
    "            for i, j in zip(moved_shadow,shadow_cloud):\n",
    "                \n",
    "                # Corrigir erros topológico que impedem a subtração dos poligonos                \n",
    "                polygons_source = shape(j['geometry'])\n",
    "                polygons_shift = shape(i['geometry'])\n",
    "                \n",
    "                polygons_source_correct = polygons_source.buffer(0)\n",
    "                polygons_shift_correct = polygons_shift.buffer(0)\n",
    "                \n",
    "                j['geometry'] = mapping(polygons_source_correct)\n",
    "                i['geometry'] = mapping(polygons_shift_correct)\n",
    "                #################################################################\n",
    "            \n",
    "                try:\n",
    "                    difference = shape(i['geometry']).difference(shape(j['geometry']))\n",
    "                    i['geometry'] = mapping(difference)\n",
    "                    dif.write(i)\n",
    "                except:\n",
    "                    print(\"Error processing record %s:\", i)\n",
    "\n",
    "# Apagar arquivo shapefile auxiliar\n",
    "driver.DeleteDataSource('../produtos/shp/mascara_sombra_deslocada.shp');"
   ]
  },
  {
   "cell_type": "markdown",
   "metadata": {},
   "source": [
    "# Transformar o shp das sombras em máscara"
   ]
  },
  {
   "cell_type": "code",
   "execution_count": null,
   "metadata": {},
   "outputs": [],
   "source": [
    "# Abrir a máscara de nuvens para setar a de sombras com a mesma configuração (limites, tamanho do pixel...)\n",
    "try:\n",
    "    mascara_nuvens = gdal.Open(nome_arquivo_mascara_destino, GA_ReadOnly)\n",
    "    print(\"Arquivo aberto com sucesso!\")\n",
    "except:\n",
    "    print(\"Erro na abertura do arquivo!\")"
   ]
  },
  {
   "cell_type": "code",
   "execution_count": null,
   "metadata": {},
   "outputs": [],
   "source": [
    "linhas = mascara_nuvens.RasterXSize\n",
    "colunas = mascara_nuvens.RasterYSize\n",
    "\n",
    "# Criação da camada vetorial\n",
    "shp_mask = ogr.Open(shp_layername_shadow)\n",
    "layer = shp_mask.GetLayer()\n",
    "output = '../produtos/imagens/mascara_sombras_' + bandas_folder.value[-16:]\n",
    "driver = gdal.GetDriverByName('GTiff')\n",
    "dataset_output = driver.Create(output, linhas, colunas, 1, gdal.GDT_Byte)\n",
    "\n",
    "# Copiar informações espaciais da mascara de nuvens\n",
    "dataset_output.SetGeoTransform(mascara_nuvens.GetGeoTransform())\n",
    "\n",
    "# Copiar informações de projeção da mascara de nuvens\n",
    "dataset_output.SetProjection(mascara_nuvens.GetProjectionRef())\n",
    "\n",
    "# Escrever dados na banda\n",
    "band = dataset_output.GetRasterBand(1)\n",
    "\n",
    "# Salvar valores\n",
    "band.FlushCache()\n",
    "\n",
    "# Ralizar a transformação de poligonos para raster\n",
    "gdal.RasterizeLayer(dataset_output, [1], layer)\n",
    "\n",
    "# Fechar dataset\n",
    "dataset_output = None"
   ]
  },
  {
   "cell_type": "markdown",
   "metadata": {},
   "source": [
    "# Resultado"
   ]
  },
  {
   "cell_type": "markdown",
   "metadata": {},
   "source": [
    "![SegmentLocal](../apresentacao/resultado.jpg \"segment\")"
   ]
  },
  {
   "cell_type": "code",
   "execution_count": null,
   "metadata": {},
   "outputs": [],
   "source": []
  }
 ],
 "metadata": {
  "kernelspec": {
   "display_name": "Python (NeoGeo)",
   "language": "python",
   "name": "neogeo"
  },
  "language_info": {
   "codemirror_mode": {
    "name": "ipython",
    "version": 3
   },
   "file_extension": ".py",
   "mimetype": "text/x-python",
   "name": "python",
   "nbconvert_exporter": "python",
   "pygments_lexer": "ipython3",
   "version": "3.7.7"
  }
 },
 "nbformat": 4,
 "nbformat_minor": 4
}
