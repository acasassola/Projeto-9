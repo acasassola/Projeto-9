{
 "cells": [
  {
   "cell_type": "code",
   "execution_count": 146,
   "metadata": {},
   "outputs": [],
   "source": [
    "# Importa a gdal\n",
    "from osgeo import gdal, ogr, osr\n",
    "gdal.UseExceptions()\n",
    "from gdalconst import *\n",
    "# Importa o matplotlib\n",
    "import matplotlib.pyplot as plt\n",
    "# Importa o Numpy\n",
    "import numpy as np\n",
    "import math\n",
    "import xml.etree.ElementTree as ET\n",
    "import os\n",
    "import fiona\n",
    "from shapely.geometry import shape, mapping"
   ]
  },
  {
   "cell_type": "markdown",
   "metadata": {},
   "source": [
    "# Carrega a máscara de nuvens"
   ]
  },
  {
   "cell_type": "code",
   "execution_count": 155,
   "metadata": {},
   "outputs": [
    {
     "name": "stdout",
     "output_type": "stream",
     "text": [
      "Abrindo o arquivo: ../imagens/mascara_nuvens_CBERS_20180131.tif\n",
      "Arquivo aberto com sucesso!\n"
     ]
    }
   ],
   "source": [
    "# Abre a mascara de nuvem gerada anteriormente\n",
    "nome_arquivo_mascara_nuvens = '../imagens/mascara_nuvens_CBERS_20180131.tif'\n",
    "\n",
    "print (\"Abrindo o arquivo: \" + nome_arquivo_mascara_nuvens)\n",
    "\n",
    "# Tenta abrir a imagem\n",
    "try:\n",
    "    mascara_nuvens = gdal.Open(nome_arquivo_mascara_nuvens, GA_ReadOnly)\n",
    "    print(\"Arquivo aberto com sucesso!\")\n",
    "except:\n",
    "    print(\"Erro na abertura do arquivo!\")"
   ]
  },
  {
   "cell_type": "code",
   "execution_count": 148,
   "metadata": {},
   "outputs": [],
   "source": [
    "# Obtém a banda única do dataset\n",
    "banda_mascara = mascara_nuvens.GetRasterBand(1)\n",
    "# Transforma a banda em array\n",
    "array_banda_mascara = banda_mascara.ReadAsArray()"
   ]
  },
  {
   "cell_type": "code",
   "execution_count": 149,
   "metadata": {},
   "outputs": [
    {
     "data": {
      "image/png": "[encoded data removed]",
      "text/plain": [
       "<Figure size 1152x576 with 1 Axes>"
      ]
     },
     "metadata": {
      "needs_background": "light"
     },
     "output_type": "display_data"
    }
   ],
   "source": [
    "# Cria a figura\n",
    "plt.figure(figsize = (16, 8))\n",
    "\n",
    "# Mostra a máscara de nuvens\n",
    "plt.title(\"Máscara de Núvens\")\n",
    "plt.imshow(array_banda_mascara, cmap='gray');"
   ]
  },
  {
   "cell_type": "markdown",
   "metadata": {},
   "source": [
    "# Gera a máscara de sombras inicial (vetorização da máscara de nuvens)\n",
    "\n",
    "Aqui foi feita a vetorização da máscara de nuvens proveniente do outro notebook. A falta de compatibilidade entre as cenas é pq não tem um src atrelado à mascara ainda, a Grazi já ajeitou isso no git dela. Vamos atualizar assim que decidimos os commit kk"
   ]
  },
  {
   "cell_type": "code",
   "execution_count": 150,
   "metadata": {
    "scrolled": true
   },
   "outputs": [],
   "source": [
    "## EPSG = int(osr.SpatialReference(wkt=mascara_nuvens.GetProjection()).GetAttrValue('AUTHORITY',1))\n",
    "srs = osr.SpatialReference()\n",
    "srs.ImportFromWkt(mascara_nuvens.GetProjectionRef())\n",
    "# srs.ImportFromEPSG(EPSG)\n",
    "\n",
    "shp_layername = '../shp/mascara_sombra_inicial'\n",
    "driver = ogr.GetDriverByName(\"ESRI Shapefile\")   \n",
    "shp_datasource = driver.CreateDataSource(shp_layername + '.shp')\n",
    "shp_layer = shp_datasource.CreateLayer(shp_layername, srs=srs)\n",
    "\n",
    "new_field = ogr.FieldDefn('DN', ogr.OFTReal)\n",
    "shp_layer.CreateField(new_field) \n",
    "\n",
    "\n",
    "gdal.Polygonize(banda_mascara, banda_mascara, shp_layer, 0, [], callback=None)\n",
    "\n",
    "shp_datasource.Destroy()"
   ]
  },
  {
   "cell_type": "markdown",
   "metadata": {},
   "source": [
    "# Deslocamento da máscara de nuvens a partir de um delta_x e delta_y calculado pelas informações dos metadados"
   ]
  },
  {
   "cell_type": "markdown",
   "metadata": {},
   "source": [
    "## Cálculo do Delta"
   ]
  },
  {
   "cell_type": "code",
   "execution_count": 151,
   "metadata": {},
   "outputs": [],
   "source": [
    "tree = ET.parse('../imagens/CBERS_4_MUX_20180131_172_139_L2/20180131_BAND8/20180131_BAND8.xml')\n",
    "root = tree.getroot()\n",
    "\n",
    "image = root.find(\"{http://www.gisplan.com.br/xmlsat}image\")\n",
    "sun_incidence = root.find(\"{http://www.gisplan.com.br/xmlsat}sunIncidenceAngle\")\n",
    "degree_sun_incidence = int(sun_incidence.find('{http://www.gisplan.com.br/xmlsat}degree').text)\n",
    "minute_sun_incidence = int(sun_incidence.find('{http://www.gisplan.com.br/xmlsat}minute').text)\n",
    "second_sun_incidence = int(sun_incidence.find('{http://www.gisplan.com.br/xmlsat}second').text)\n",
    "\n",
    "sun_incidence = degree_sun_incidence + minute_sun_incidence/60 + second_sun_incidence/3600\n",
    "\n",
    "sun_position = image.find('{http://www.gisplan.com.br/xmlsat}sunPosition')\n",
    "sun_azim = float(sun_position.find('{http://www.gisplan.com.br/xmlsat}sunAzimuth').text)\n",
    "sun_zenith = float(sunposition.find('{http://www.gisplan.com.br/xmlsat}elevation').text)\n",
    "\n",
    "sun_azim = math.radians(sun_azim)\n",
    "sun_zenith = math.radians(sun_zenith)\n",
    "view_azim = math.radians(0)\n",
    "view_zenith = math.radians(0)\n",
    "\n",
    "sen_sun_azi = math.sin(sun_azim)\n",
    "cos_sun_azi = math.cos(sun_azim)\n",
    "sen_view_azi = math.sin(view_azim)\n",
    "cos_view_azi = math.cos(view_azim)\n",
    "tan_sun_zenith = math.tan(sun_zenith)\n",
    "tan_view_zenith = math.tan(view_zenith)\n",
    "\n",
    "shadow_direction = math.pi + math.atan(sen_sun_azi*tan_sun_zenith-sen_view_azi*tan_view_zenith/\n",
    "                                       (cos_sun_azi*tan_sun_zenith-cos_view_azi*tan_view_zenith))\n",
    "\n",
    "h = 5000 # Altura das nuvens\n",
    "\n",
    "shadow_distance = h * math.tan(math.radians(sun_incidence))\n",
    "\n",
    "# shadow_distance2 = h * math.sqrt(\n",
    "#     ( (sen_sun_azi*tan_sun_zenith) - (sen_view_azi*tan_view_zenith) )**2 +\n",
    "#     ( (cos_sun_azi*tan_sun_zenith) - (cos_view_azi*tan_view_zenith) )**2\n",
    "#     )\n",
    "\n",
    "delta = (shadow_distance*math.cos(shadow_direction), shadow_distance*math.sin(shadow_direction))"
   ]
  },
  {
   "cell_type": "markdown",
   "metadata": {},
   "source": [
    "## Deslocamento da máscara"
   ]
  },
  {
   "cell_type": "code",
   "execution_count": 153,
   "metadata": {},
   "outputs": [],
   "source": [
    "# Essas três funções realizam o deslocamento das feições da camada. (Elas são recursivas entre si)\n",
    "def movePoint_Coords(coords, delta):     # \"delta\" é uma tupla (delta_x, delta_y)\n",
    "    return tuple(c + d for c, d in zip(coords, delta))\n",
    "def moveLine_Coords(coords, delta):\n",
    "    return list(movePoint_Coords(pt_coords, delta) for pt_coords in coords)\n",
    "def movePolygon_Coords(coords, delta):\n",
    "    return list(moveLine_Coords(ring_coords, delta) for ring_coords in coords)\n",
    "\n",
    "with fiona.open('../shp/mascara_sombra_inicial.shp', \"r\") as shadow_cloud:\n",
    "\n",
    "    with fiona.open(\"../shp/mascara_sombra_deslocada.shp\", \n",
    "                    \"w\",\n",
    "                    driver=shadow_cloud.driver,\n",
    "                    schema=shadow_cloud.schema,\n",
    "                    crs=shadow_cloud.crs) as moved_shadow:\n",
    "        \n",
    "        # Deslocamento de todas as feições da camada de máscara de nuvens vetorizada\n",
    "        for feature in shadow_cloud:\n",
    "            try:\n",
    "                feature['geometry']['coordinates'] = shiftCoords_Polygon(feature['geometry']['coordinates'], delta)\n",
    "                moved_shadow.write(feature)\n",
    "            except:\n",
    "                print(\"Error processing record %s:\", feature)\n",
    "            "
   ]
  },
  {
   "cell_type": "markdown",
   "metadata": {},
   "source": [
    "# Subtração da mascara deslocada pela mascara de nuvens \n",
    "\n",
    "Onde é nuvem não é sombra, então será removida a interseção entre as duas camadas. Assim, permanece na mascara exclusivamente o que é sombra"
   ]
  },
  {
   "cell_type": "code",
   "execution_count": 154,
   "metadata": {},
   "outputs": [],
   "source": [
    "with fiona.open('../shp/mascara_sombra_inicial.shp', \"r\") as shadow_cloud:\n",
    "    with fiona.open(\"../shp/mascara_sombra_deslocada.shp\", \"r\") as moved_shadow:\n",
    "        \n",
    "        with fiona.open(\"../shp/mascara_sombra_final.shp\", \n",
    "                    \"w\",\n",
    "                    driver=shadow_cloud.driver,\n",
    "                    schema=shadow_cloud.schema,\n",
    "                    crs=shadow_cloud.crs) as dif:\n",
    "            \n",
    "            for i, j in zip(moved_shadow,shadow_cloud):\n",
    "                \n",
    "                # Corrigir erros topológico que impedem a subtração dos poligonos                \n",
    "                polygons_source = shape(j['geometry'])\n",
    "                polygons_shift = shape(i['geometry'])\n",
    "                \n",
    "                polygons_source_correct = polygons_source.buffer(0)\n",
    "                polygons_shift_correct = polygons_shift.buffer(0)\n",
    "                \n",
    "                j['geometry'] = mapping(polygons_source_correct)\n",
    "                i['geometry'] = mapping(polygons_shift_correct)\n",
    "                #################################################################\n",
    "            \n",
    "                try:\n",
    "                    difference = shape(i['geometry']).difference(shape(j['geometry']))\n",
    "                    i['geometry'] = mapping(difference)\n",
    "                    dif.write(i)\n",
    "                except:\n",
    "                    print(\"Error processing record %s:\", i)\n",
    "\n",
    "# Apagar arquivos shapefile auxiliares\n",
    "driver.DeleteDataSource('../shp/mascara_sombra_deslocada.shp')\n",
    "driver.DeleteDataSource('../shp/mascara_sombra_inicial.shp');"
   ]
  }
 ],
 "metadata": {
  "kernelspec": {
   "display_name": "Python (NeoGeo)",
   "language": "python",
   "name": "neogeo"
  },
  "language_info": {
   "codemirror_mode": {
    "name": "ipython",
    "version": 3
   },
   "file_extension": ".py",
   "mimetype": "text/x-python",
   "name": "python",
   "nbconvert_exporter": "python",
   "pygments_lexer": "ipython3",
   "version": "3.7.7"
  }
 },
 "nbformat": 4,
 "nbformat_minor": 4
}
