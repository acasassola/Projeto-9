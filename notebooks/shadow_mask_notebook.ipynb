{
 "cells": [
  {
   "cell_type": "code",
   "execution_count": 2,
   "metadata": {},
   "outputs": [],
   "source": [
    "# Importa a gdal\n",
    "from osgeo import gdal\n",
    "gdal.UseExceptions()\n",
    "from gdalconst import *\n",
    "# Importa o matplotlib\n",
    "import matplotlib.pyplot as plt\n",
    "# Importa o Numpy\n",
    "import numpy as np"
   ]
  },
  {
   "cell_type": "markdown",
   "metadata": {},
   "source": [
    "# Carrega a máscara de nuvens"
   ]
  },
  {
   "cell_type": "code",
   "execution_count": 4,
   "metadata": {},
   "outputs": [
    {
     "name": "stdout",
     "output_type": "stream",
     "text": [
      "Abrindo o arquivo: ../imagens/mascara_nuvens_CBERS_20180131.png\n",
      "Arquivo aberto com sucesso!\n"
     ]
    }
   ],
   "source": [
    "# Abre a mascara de nuvem gerada anteriormente\n",
    "\n",
    "nome_arquivo_mascara_nuvens = \"../imagens/mascara_nuvens_CBERS_20180131.png\"\n",
    "\n",
    "print (\"Abrindo o arquivo: \" + nome_arquivo_mascara_nuvens)\n",
    "\n",
    "# Tenta abrir a imagem\n",
    "try:\n",
    "    mascara_nuvens = gdal.Open(nome_arquivo_mascara_nuvens, GA_ReadOnly)\n",
    "    print(\"Arquivo aberto com sucesso!\")\n",
    "except:\n",
    "    print(\"Erro na abertura do arquivo!\")"
   ]
  },
  {
   "cell_type": "markdown",
   "metadata": {},
   "source": [
    "# Carrega a imagem RGB"
   ]
  },
  {
   "cell_type": "code",
   "execution_count": null,
   "metadata": {},
   "outputs": [],
   "source": []
  },
  {
   "cell_type": "code",
   "execution_count": null,
   "metadata": {},
   "outputs": [],
   "source": []
  }
 ],
 "metadata": {
  "kernelspec": {
   "display_name": "Python 3",
   "language": "python",
   "name": "python3"
  },
  "language_info": {
   "codemirror_mode": {
    "name": "ipython",
    "version": 3
   },
   "file_extension": ".py",
   "mimetype": "text/x-python",
   "name": "python",
   "nbconvert_exporter": "python",
   "pygments_lexer": "ipython3",
   "version": "3.8.3"
  }
 },
 "nbformat": 4,
 "nbformat_minor": 4
}
