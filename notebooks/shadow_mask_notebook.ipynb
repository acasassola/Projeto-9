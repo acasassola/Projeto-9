{
 "cells": [
  {
   "cell_type": "code",
   "execution_count": null,
   "metadata": {},
   "outputs": [],
   "source": [
    "# Importa a gdal\n",
    "from osgeo import gdal, ogr, osr\n",
    "gdal.UseExceptions()\n",
    "from gdalconst import *\n",
    "# Importa o matplotlib\n",
    "import matplotlib.pyplot as plt\n",
    "# Importa o Numpy\n",
    "import numpy as np"
   ]
  },
  {
   "cell_type": "markdown",
   "metadata": {},
   "source": [
    "# Carrega a máscara de nuvens"
   ]
  },
  {
   "cell_type": "code",
   "execution_count": null,
   "metadata": {},
   "outputs": [],
   "source": [
    "# Abre a mascara de nuvem gerada anteriormente\n",
    "nome_arquivo_mascara_nuvens = '../imagens/mascara_nuvens_CBERS_20180131.tif'\n",
    "\n",
    "print (\"Abrindo o arquivo: \" + nome_arquivo_mascara_nuvens)\n",
    "\n",
    "# Tenta abrir a imagem\n",
    "try:\n",
    "    mascara_nuvens = gdal.Open(nome_arquivo_mascara_nuvens, GA_ReadOnly)\n",
    "    print(\"Arquivo aberto com sucesso!\")\n",
    "except:\n",
    "    print(\"Erro na abertura do arquivo!\")"
   ]
  },
  {
   "cell_type": "code",
   "execution_count": null,
   "metadata": {},
   "outputs": [],
   "source": [
    "# Obtém a banda única do dataset\n",
    "banda_mascara = mascara_nuvens.GetRasterBand(1)\n",
    "# Transforma a banda em array\n",
    "array_banda_mascara = banda_mascara.ReadAsArray()"
   ]
  },
  {
   "cell_type": "markdown",
   "metadata": {},
   "source": [
    "# Gera a máscara de sombras inicial (vetorização da máscara de nuvens)\n",
    "\n",
    "Aqui foi feita a vetorização da máscara de nuvens proveniente do outro notebook. A falta de compatibilidade entre as cenas é pq não tem um src atrelado à mascara ainda, a Grazi já ajeitou isso no git dela. Vamos atualizar assim que decidimos os commit kk"
   ]
  },
  {
   "cell_type": "code",
   "execution_count": null,
   "metadata": {},
   "outputs": [],
   "source": [
    "# import sys (Irei tirar isso aqui, foi usado só na hora dos testes. Na revisão final vemos a real necessidade deles)\n",
    "# import os\n",
    "\n",
    "dst_layername = '../imagens/mascara_sombra'\n",
    "drv = ogr.GetDriverByName(\"ESRI Shapefile\")\n",
    "    \n",
    "dst_ds = drv.CreateDataSource( dst_layername + \".shp\" )\n",
    "dst_layer = dst_ds.CreateLayer(dst_layername)\n",
    "\n",
    "#newField = ogr.FieldDefn('MYFLD', ogr.OFTInteger)\n",
    "#dst_layer.CreateField(newField)\n",
    "\n",
    "gdal.Polygonize( banda_mascara, banda_mascara, dst_layer, -1, callback=None )"
   ]
  },
  {
   "cell_type": "markdown",
   "metadata": {},
   "source": [
    "# Deslocamento da máscara de nuvens a partir de um delta_x e delta_y genérico. \n",
    "\n",
    "Nesse caso foi usado um delta = (1,1). Ainda estou desenvolvendo a extração desses valores a partir dos metadados"
   ]
  },
  {
   "cell_type": "code",
   "execution_count": null,
   "metadata": {},
   "outputs": [],
   "source": [
    "import fiona\n",
    "\n",
    "# Essas três funções realizam o deslocamento das feições da camada. (Elas são recursivas entre si)\n",
    "def shiftCoords_Point(coords, delta):     # \"delta\" é uma tupla (delta_x, delta_y)\n",
    "    return tuple(c + d for c, d in zip(coords, delta))\n",
    "def shiftCoords_LineString(coords, delta):\n",
    "    return list(shiftCoords_Point(pt_coords, delta) for pt_coords in coords)\n",
    "def shiftCoords_Polygon(coords, delta):\n",
    "    return list(shiftCoords_LineString(ring_coords, delta) for ring_coords in coords)\n",
    "\n",
    "# Aqui foi definido um valor genérico. \n",
    "delta = (1.0, 1.0) # As funções que farão a extração das informações dos metadados vão alterar exatamente aqui\n",
    "\n",
    "with fiona.open('../imagens/mascara_sombra.shp', \"r\") as source:\n",
    "\n",
    "    # Create a sink for processed features with the same format and \n",
    "    # coordinate reference system as the source.\n",
    "    with fiona.open(\"../imagens/shifted.shp\", \n",
    "                    \"w\",\n",
    "                    driver=source.driver,\n",
    "                    schema=source.schema,\n",
    "                    crs=source.crs) as sink:\n",
    "        # Deslocamento de todas as feições da camada de máscara de nuvens vetorizada\n",
    "        for rec in source:\n",
    "            try:\n",
    "                rec['geometry']['coordinates'] = shiftCoords_Polygon(rec['geometry']['coordinates'], delta)\n",
    "                sink.write(rec)\n",
    "            except:\n",
    "                print(\"Error processing record %s:\", rec)\n",
    "            "
   ]
  },
  {
   "cell_type": "markdown",
   "metadata": {},
   "source": [
    "# Subtração da mascara deslocada pela mascara de nuvens \n",
    "\n",
    "Onde é nuvem não é sombra, então será removida a interseção entre as duas camadas. Assim, permanece na mascara exclusivamente o que é sombra"
   ]
  },
  {
   "cell_type": "code",
   "execution_count": null,
   "metadata": {},
   "outputs": [],
   "source": [
    "from shapely.geometry import shape, mapping\n",
    "\n",
    "with fiona.open('../imagens/mascara_sombra.shp', \"r\") as source:\n",
    "    with fiona.open(\"../imagens/shifted.shp\", \"r\") as shift:\n",
    "        \n",
    "        with fiona.open(\"../imagens/shifted_difference.shp\", \n",
    "                    \"w\",\n",
    "                    driver=source.driver,\n",
    "                    schema=source.schema,\n",
    "                    crs=source.crs) as dif:\n",
    "            \n",
    "            for i, j in zip(shift,source):\n",
    "                \n",
    "                # Corrigir erros topológico que impedem a subtração dos poligonos                \n",
    "                polygons_source = shape(j['geometry'])\n",
    "                polygons_shift = shape(i['geometry'])\n",
    "                \n",
    "                polygons_source_correct = polygons_source.buffer(0)\n",
    "                polygons_shift_correct = polygons_shift.buffer(0)\n",
    "                \n",
    "                j['geometry'] = mapping(polygons_source_correct)\n",
    "                i['geometry'] = mapping(polygons_shift_correct)\n",
    "                #################################################################\n",
    "            \n",
    "                try:\n",
    "                    difference = shape(i['geometry']).difference(shape(j['geometry']))\n",
    "                    i['geometry'] = mapping(difference)\n",
    "                    dif.write(i)\n",
    "                except:\n",
    "                    print(\"Error processing record %s:\", i)\n",
    "                \n",
    "\n",
    "            "
   ]
  },
  {
   "cell_type": "markdown",
   "metadata": {},
   "source": [
    "# A partir daqui estou desenvolvendo ainda.."
   ]
  },
  {
   "cell_type": "code",
   "execution_count": null,
   "metadata": {},
   "outputs": [],
   "source": [
    "import math\n",
    "\n",
    "sun_azim = math.radians(67.9437)\n",
    "sun_zenith = math.radians(56.0513)\n",
    "view_azim = math.radians(0)\n",
    "view_zenith = math.radians(90)\n",
    "\n",
    "shadow_direction = math.pi + math.atan(math.sin(sun_azim)*math.tan(sun_zenith)-math.sin(view_azim)*math.tan(view_zenith)/(math.cos(sun_azim)*math.tan(sun_zenith)-math.cos(view_azim)*math.tan(view_zenith)))\n",
    "print(shadow_direction)"
   ]
  },
  {
   "cell_type": "code",
   "execution_count": null,
   "metadata": {},
   "outputs": [],
   "source": []
  }
 ],
 "metadata": {
  "kernelspec": {
   "display_name": "Python 3",
   "language": "python",
   "name": "python3"
  },
  "language_info": {
   "codemirror_mode": {
    "name": "ipython",
    "version": 3
   },
   "file_extension": ".py",
   "mimetype": "text/x-python",
   "name": "python",
   "nbconvert_exporter": "python",
   "pygments_lexer": "ipython3",
   "version": "3.7.7"
  }
 },
 "nbformat": 4,
 "nbformat_minor": 4
}
